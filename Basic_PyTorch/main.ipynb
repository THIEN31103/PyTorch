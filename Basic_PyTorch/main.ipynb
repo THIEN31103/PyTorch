{
 "cells": [
  {
   "cell_type": "markdown",
   "id": "318c48b0",
   "metadata": {},
   "source": [
    "Create a tensor in PyTorch"
   ]
  },
  {
   "cell_type": "code",
   "execution_count": null,
   "id": "b3dd0d58",
   "metadata": {},
   "outputs": [
    {
     "name": "stdout",
     "output_type": "stream",
     "text": [
      "torch.Size([3])\n",
      "tensor([1, 2, 3])\n"
     ]
    }
   ],
   "source": [
    "#From a list\n",
    "import torch\n",
    "\n",
    "a_data = [1, 2, 3]\n",
    "a_data = torch.tensor(a_data)\n",
    "\n",
    "print(a_data.shape)\n",
    "print(a_data)"
   ]
  },
  {
   "cell_type": "code",
   "execution_count": 11,
   "id": "b0d1407f",
   "metadata": {},
   "outputs": [
    {
     "name": "stdout",
     "output_type": "stream",
     "text": [
      "torch.Size([3])\n",
      "tensor([1, 2, 3], dtype=torch.int32)\n"
     ]
    }
   ],
   "source": [
    "#From a Numpy Array\n",
    "import numpy as np\n",
    "\n",
    "b_data = np.array([1, 2, 3])\n",
    "b_data = torch.from_numpy(b_data)\n",
    "\n",
    "print(b_data.shape)\n",
    "print(b_data)"
   ]
  },
  {
   "cell_type": "code",
   "execution_count": 12,
   "id": "7a858f44",
   "metadata": {},
   "outputs": [
    {
     "name": "stdout",
     "output_type": "stream",
     "text": [
      "tensor([[0.0973, 0.0856, 0.6719],\n",
      "        [0.4411, 0.0134, 0.3112],\n",
      "        [0.5052, 0.4575, 0.6294]])\n"
     ]
    }
   ],
   "source": [
    "#Create a tensor random\n",
    "c_data = torch.rand(3, 3)\n",
    "print(c_data)"
   ]
  }
 ],
 "metadata": {
  "kernelspec": {
   "display_name": "Python 3",
   "language": "python",
   "name": "python3"
  },
  "language_info": {
   "codemirror_mode": {
    "name": "ipython",
    "version": 3
   },
   "file_extension": ".py",
   "mimetype": "text/x-python",
   "name": "python",
   "nbconvert_exporter": "python",
   "pygments_lexer": "ipython3",
   "version": "3.11.8"
  }
 },
 "nbformat": 4,
 "nbformat_minor": 5
}
