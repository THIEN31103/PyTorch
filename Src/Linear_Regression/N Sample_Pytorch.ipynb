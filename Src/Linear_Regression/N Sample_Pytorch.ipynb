{
 "cells": [
  {
   "cell_type": "code",
   "execution_count": 67,
   "id": "465e3a63",
   "metadata": {},
   "outputs": [],
   "source": [
    "import numpy as np\n",
    "import torch\n",
    "import torch.nn as nn"
   ]
  },
  {
   "cell_type": "code",
   "execution_count": 68,
   "id": "6a67c8fd",
   "metadata": {},
   "outputs": [
    {
     "name": "stdout",
     "output_type": "stream",
     "text": [
      "torch.float32\n",
      "torch.float32\n"
     ]
    }
   ],
   "source": [
    "#Data preparation\n",
    "data = np.genfromtxt(r'E:\\AIO\\PyTorch\\Src\\data.csv', delimiter=',')\n",
    "x_data = torch.from_numpy(data[:, 0:1]).float()\n",
    "y_data = torch.from_numpy(data[:, 1]).float()\n",
    "print(x_data.dtype)\n",
    "print(y_data.dtype)"
   ]
  },
  {
   "cell_type": "code",
   "execution_count": 69,
   "id": "1b0b0586",
   "metadata": {},
   "outputs": [
    {
     "data": {
      "text/plain": [
       "4"
      ]
     },
     "execution_count": 69,
     "metadata": {},
     "output_type": "execute_result"
    }
   ],
   "source": [
    "num_epoch = 1000\n",
    "N = len(y_data)\n",
    "N"
   ]
  },
  {
   "cell_type": "code",
   "execution_count": 70,
   "id": "a0459837",
   "metadata": {},
   "outputs": [
    {
     "name": "stdout",
     "output_type": "stream",
     "text": [
      "Parameter containing:\n",
      "tensor([[-0.3400]], requires_grad=True)\n",
      "Parameter containing:\n",
      "tensor([0.0400], requires_grad=True)\n"
     ]
    }
   ],
   "source": [
    "#Create a linear year\n",
    "model = nn.Linear(1, 1)\n",
    "\n",
    "#set value (for illustration)\n",
    "model.weight.data = torch.Tensor([[-0.34]])\n",
    "model.bias.data = torch.Tensor([0.04])\n",
    "\n",
    "#print\n",
    "print(model.weight)\n",
    "print(model.bias)"
   ]
  },
  {
   "cell_type": "code",
   "execution_count": 71,
   "id": "14f5ee24",
   "metadata": {},
   "outputs": [],
   "source": [
    "loss_fn = torch.nn.MSELoss()\n",
    "optimizer = torch.optim.SGD(model.parameters(),\n",
    "                            lr=0.01)"
   ]
  },
  {
   "cell_type": "code",
   "execution_count": 72,
   "id": "01e10f7f",
   "metadata": {},
   "outputs": [],
   "source": [
    "#training\n",
    "losses = []\n",
    "for epoch in range(num_epoch):\n",
    "    #y_hat\n",
    "    y_hat = model(x_data)\n",
    "\n",
    "    #loss\n",
    "    loss = loss_fn(y_hat, y_data)\n",
    "    losses.append(loss.item())\n",
    "\n",
    "    #compute gradient\n",
    "    optimizer.zero_grad()\n",
    "    loss.backward()\n",
    "\n",
    "    #update\n",
    "    optimizer.step()"
   ]
  },
  {
   "cell_type": "code",
   "execution_count": 73,
   "id": "16188d19",
   "metadata": {},
   "outputs": [
    {
     "data": {
      "text/plain": [
       "[<matplotlib.lines.Line2D at 0x2202f0a2550>]"
      ]
     },
     "execution_count": 73,
     "metadata": {},
     "output_type": "execute_result"
    },
    {
     "data": {
      "image/png": "[encoded data removed]",
      "text/plain": [
       "<Figure size 640x480 with 1 Axes>"
      ]
     },
     "metadata": {},
     "output_type": "display_data"
    }
   ],
   "source": [
    "import matplotlib.pyplot as plt\n",
    "plt.plot(losses)"
   ]
  },
  {
   "cell_type": "code",
   "execution_count": 74,
   "id": "735aa5b3",
   "metadata": {},
   "outputs": [
    {
     "data": {
      "text/plain": [
       "Parameter containing:\n",
       "tensor([[0.4377]], requires_grad=True)"
      ]
     },
     "execution_count": 74,
     "metadata": {},
     "output_type": "execute_result"
    }
   ],
   "source": [
    "model.weight"
   ]
  },
  {
   "cell_type": "code",
   "execution_count": 75,
   "id": "d07b9998",
   "metadata": {},
   "outputs": [
    {
     "data": {
      "text/plain": [
       "Parameter containing:\n",
       "tensor([4.2390], requires_grad=True)"
      ]
     },
     "execution_count": 75,
     "metadata": {},
     "output_type": "execute_result"
    }
   ],
   "source": [
    "model.bias"
   ]
  }
 ],
 "metadata": {
  "kernelspec": {
   "display_name": "Python 3",
   "language": "python",
   "name": "python3"
  },
  "language_info": {
   "codemirror_mode": {
    "name": "ipython",
    "version": 3
   },
   "file_extension": ".py",
   "mimetype": "text/x-python",
   "name": "python",
   "nbconvert_exporter": "python",
   "pygments_lexer": "ipython3",
   "version": "3.11.8"
  }
 },
 "nbformat": 4,
 "nbformat_minor": 5
}
