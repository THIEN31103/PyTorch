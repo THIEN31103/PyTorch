{
 "cells": [
  {
   "cell_type": "code",
   "execution_count": 60,
   "id": "134e356f",
   "metadata": {},
   "outputs": [],
   "source": [
    "import numpy as np\n",
    "import torch\n",
    "import torch.nn as nn"
   ]
  },
  {
   "cell_type": "code",
   "execution_count": 61,
   "id": "61e9a859",
   "metadata": {},
   "outputs": [
    {
     "name": "stdout",
     "output_type": "stream",
     "text": [
      "tensor([[1.4000, 0.2000],\n",
      "        [1.5000, 0.2000],\n",
      "        [3.0000, 1.1000],\n",
      "        [4.1000, 1.3000]])\n",
      "tensor([0., 0., 1., 1.])\n"
     ]
    }
   ],
   "source": [
    "#Data preparation\n",
    "data = np.genfromtxt(r'E:\\AIO\\PyTorch\\Data\\iris_2D_demo.csv', delimiter=',', skip_header=1)\n",
    "x_data = torch.from_numpy(data[:, 0:2]).float()\n",
    "y_data = torch.from_numpy(data[:, 2]).float()\n",
    "print(x_data)\n",
    "print(y_data)"
   ]
  },
  {
   "cell_type": "code",
   "execution_count": 62,
   "id": "2e4c6adc",
   "metadata": {},
   "outputs": [
    {
     "data": {
      "text/plain": [
       "4"
      ]
     },
     "execution_count": 62,
     "metadata": {},
     "output_type": "execute_result"
    }
   ],
   "source": [
    "num_epoch = 1\n",
    "N = len(y_data)\n",
    "N"
   ]
  },
  {
   "cell_type": "code",
   "execution_count": 63,
   "id": "191eacd3",
   "metadata": {},
   "outputs": [
    {
     "name": "stdout",
     "output_type": "stream",
     "text": [
      "Parameter containing:\n",
      "tensor([[ 0.5000, -0.1000]], requires_grad=True)\n",
      "Parameter containing:\n",
      "tensor([0.1000], requires_grad=True)\n"
     ]
    }
   ],
   "source": [
    "#Create a linear year\n",
    "model = nn.Linear(2, 1)\n",
    "\n",
    "#set value (for illustration)\n",
    "model.weight.data = torch.Tensor([[0.5, -0.1]])\n",
    "model.bias.data = torch.Tensor([0.1])\n",
    "\n",
    "#print\n",
    "print(model.weight)\n",
    "print(model.bias)"
   ]
  },
  {
   "cell_type": "code",
   "execution_count": 64,
   "id": "70d26309",
   "metadata": {},
   "outputs": [],
   "source": [
    "loss_fn = torch.nn.BCELoss()\n",
    "optimizer = torch.optim.SGD(model.parameters(),\n",
    "                            lr=0.01)"
   ]
  },
  {
   "cell_type": "code",
   "execution_count": 65,
   "id": "1f127478",
   "metadata": {},
   "outputs": [
    {
     "name": "stdout",
     "output_type": "stream",
     "text": [
      "y_hat: 0.6856801509857178\n",
      "loss: 1.1573442220687866\n",
      "(db, dw): (tensor([0.6857]), tensor([[0.9600, 0.1371]]))\n",
      "(b, w): (tensor([0.0931]), tensor([[ 0.4904, -0.1014]]))\n",
      "\n",
      "\n",
      "y_hat: 0.6917833089828491\n",
      "loss: 1.1769522428512573\n",
      "(db, dw): (tensor([0.6918]), tensor([[1.0377, 0.1384]]))\n",
      "(b, w): (tensor([0.0862]), tensor([[ 0.4800, -0.1028]]))\n",
      "\n",
      "\n",
      "y_hat: 0.8042805790901184\n",
      "loss: 0.2178070843219757\n",
      "(db, dw): (tensor([-0.1957]), tensor([[-0.5872, -0.2153]]))\n",
      "(b, w): (tensor([0.0882]), tensor([[ 0.4859, -0.1006]]))\n",
      "\n",
      "\n",
      "y_hat: 0.8753998279571533\n",
      "loss: 0.133074551820755\n",
      "(db, dw): (tensor([-0.1246]), tensor([[-0.5109, -0.1620]]))\n",
      "(b, w): (tensor([0.0894]), tensor([[ 0.4910, -0.0990]]))\n",
      "\n",
      "\n"
     ]
    }
   ],
   "source": [
    "#training\n",
    "for epoch in range(num_epoch):\n",
    "    for i in range(N):\n",
    "        x = x_data[i]\n",
    "        y = y_data[i:i+1]\n",
    "\n",
    "        #y_hat\n",
    "        y_hat = torch.sigmoid(model(x)) \n",
    "        print(f'y_hat: {y_hat.item()}')\n",
    "\n",
    "        #loss\n",
    "        loss = loss_fn(y_hat, y)\n",
    "        print(f'loss: {loss.item()}')\n",
    "\n",
    "        #compute gradient\n",
    "        optimizer.zero_grad()\n",
    "        loss.backward()\n",
    "        print(f'(db, dw): ({model.bias.grad.data}, {model.weight.grad.data})')\n",
    "\n",
    "        #update\n",
    "        optimizer.step()\n",
    "        print(f'(b, w): ({model.bias.data}, {model.weight.data})\\n\\n')"
   ]
  }
 ],
 "metadata": {
  "kernelspec": {
   "display_name": "Python 3",
   "language": "python",
   "name": "python3"
  },
  "language_info": {
   "codemirror_mode": {
    "name": "ipython",
    "version": 3
   },
   "file_extension": ".py",
   "mimetype": "text/x-python",
   "name": "python",
   "nbconvert_exporter": "python",
   "pygments_lexer": "ipython3",
   "version": "3.11.8"
  }
 },
 "nbformat": 4,
 "nbformat_minor": 5
}
