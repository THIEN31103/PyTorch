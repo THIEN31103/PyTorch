{
 "cells": [
  {
   "cell_type": "code",
   "execution_count": 54,
   "id": "fd10977b",
   "metadata": {},
   "outputs": [],
   "source": [
    "import numpy as np\n",
    "import torch\n",
    "import torch.nn as nn\n",
    "import torch.optim as optim"
   ]
  },
  {
   "cell_type": "code",
   "execution_count": 55,
   "id": "b243f448",
   "metadata": {},
   "outputs": [],
   "source": [
    "#Load data\n",
    "iris = np.genfromtxt(r'E:\\AIO\\PyTorch\\Data\\iris_2D_3c.csv', \n",
    "                     dtype=None, \n",
    "                     delimiter=',',\n",
    "                     skip_header=1)\n",
    "X = torch.tensor(iris[:, 0:2], dtype=torch.float32)\n",
    "y = torch.tensor(iris[:, 2], dtype=torch.int64)"
   ]
  },
  {
   "cell_type": "code",
   "execution_count": 56,
   "id": "a2aee9fb",
   "metadata": {},
   "outputs": [],
   "source": [
    "#Define model\n",
    "class SoftmaxRegression(nn.Module):\n",
    "    def __init__(self, input_dim, output_dim):\n",
    "        super(SoftmaxRegression, self).__init__()\n",
    "        self.linear = nn.Linear(input_dim, output_dim)\n",
    "        \n",
    "    def forward(self, x):\n",
    "        return self.linear(x)"
   ]
  },
  {
   "cell_type": "code",
   "execution_count": null,
   "id": "7de4ccd5",
   "metadata": {},
   "outputs": [],
   "source": []
  },
  {
   "cell_type": "code",
   "execution_count": 57,
   "id": "24cf227f",
   "metadata": {},
   "outputs": [],
   "source": [
    "input_dim = X.shape[1]\n",
    "output_dim = len(torch.unique(y))\n",
    "model = SoftmaxRegression(input_dim, output_dim)"
   ]
  },
  {
   "cell_type": "code",
   "execution_count": 58,
   "id": "aa43f298",
   "metadata": {},
   "outputs": [],
   "source": [
    "#Loss and optimizer\n",
    "loss_fn = nn.CrossEntropyLoss()\n",
    "optimizer = optim.SGD(model.parameters(),\n",
    "                      lr = 0.1)"
   ]
  },
  {
   "cell_type": "code",
   "execution_count": 59,
   "id": "5b81b8c6",
   "metadata": {},
   "outputs": [],
   "source": [
    "#training\n",
    "max_epoch = 5000\n",
    "losses = []\n",
    "\n",
    "for epoch in range(max_epoch):\n",
    "    #forward pass\n",
    "    outputs = model(X)\n",
    "\n",
    "    #compute loss\n",
    "    loss = loss_fn(outputs, y)\n",
    "    losses.append(loss.item())\n",
    "\n",
    "    #Backward pass and optimization\n",
    "    optimizer.zero_grad()\n",
    "    loss.backward()\n",
    "    optimizer.step()"
   ]
  },
  {
   "cell_type": "code",
   "execution_count": 60,
   "id": "d1c636ab",
   "metadata": {},
   "outputs": [
    {
     "data": {
      "text/plain": [
       "[<matplotlib.lines.Line2D at 0x195ffe65510>]"
      ]
     },
     "execution_count": 60,
     "metadata": {},
     "output_type": "execute_result"
    },
    {
     "data": {
      "image/png": "[encoded data removed]",
      "text/plain": [
       "<Figure size 640x480 with 1 Axes>"
      ]
     },
     "metadata": {},
     "output_type": "display_data"
    }
   ],
   "source": [
    "import matplotlib.pyplot as plt\n",
    "plt.plot(losses)"
   ]
  }
 ],
 "metadata": {
  "kernelspec": {
   "display_name": "Python 3",
   "language": "python",
   "name": "python3"
  },
  "language_info": {
   "codemirror_mode": {
    "name": "ipython",
    "version": 3
   },
   "file_extension": ".py",
   "mimetype": "text/x-python",
   "name": "python",
   "nbconvert_exporter": "python",
   "pygments_lexer": "ipython3",
   "version": "3.11.8"
  }
 },
 "nbformat": 4,
 "nbformat_minor": 5
}
