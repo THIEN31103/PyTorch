{
 "cells": [
  {
   "cell_type": "code",
   "execution_count": 1,
   "id": "a19cc9ca",
   "metadata": {},
   "outputs": [],
   "source": [
    "import numpy as np\n",
    "import torch\n",
    "import torch.nn as nn\n",
    "import torch.optim as optim\n",
    "\n",
    "#Load data\n",
    "iris = np.genfromtxt(r'E:\\AIO\\PyTorch\\Data\\iris_2D_3c.csv', \n",
    "                     dtype=None, \n",
    "                     delimiter=',',\n",
    "                     skip_header=1)\n",
    "X = torch.tensor(iris[:, 0:2], dtype=torch.float32)\n",
    "y = torch.tensor(iris[:, 2], dtype=torch.int64)\n",
    "\n",
    "#Define the model\n",
    "input_dim = X.shape[1]\n",
    "output_dim = len(torch.unique(y))\n",
    "model = nn.Linear(input_dim, output_dim)\n",
    "\n",
    "#Loss and optimizer\n",
    "loss_fn = nn.CrossEntropyLoss()\n",
    "optimizer = optim.SGD(model.parameters(),\n",
    "                      lr=0.1)\n",
    "\n",
    "#training\n",
    "max_epoch = 5000\n",
    "losses = []\n",
    "\n",
    "for epoch in range(max_epoch):\n",
    "    #forward pass\n",
    "    outputs = model(X)\n",
    "\n",
    "    #compute loss\n",
    "    loss = loss_fn(outputs, y)\n",
    "    losses.append(loss.item())\n",
    "\n",
    "    #Backward pass and optimization\n",
    "    optimizer.zero_grad()\n",
    "    loss.backward()\n",
    "    optimizer.step()"
   ]
  },
  {
   "cell_type": "code",
   "execution_count": 2,
   "id": "0a9446fa",
   "metadata": {},
   "outputs": [
    {
     "data": {
      "text/plain": [
       "[<matplotlib.lines.Line2D at 0x146f0505d50>]"
      ]
     },
     "execution_count": 2,
     "metadata": {},
     "output_type": "execute_result"
    },
    {
     "data": {
      "image/png": "[encoded data removed]",
      "text/plain": [
       "<Figure size 640x480 with 1 Axes>"
      ]
     },
     "metadata": {},
     "output_type": "display_data"
    }
   ],
   "source": [
    "import matplotlib.pyplot as plt\n",
    "plt.plot(losses)"
   ]
  },
  {
   "cell_type": "code",
   "execution_count": 3,
   "id": "a1d896b9",
   "metadata": {},
   "outputs": [
    {
     "name": "stdout",
     "output_type": "stream",
     "text": [
      "Accuracy: 100.00%\n"
     ]
    }
   ],
   "source": [
    "#compute accuracy for data X\n",
    "with torch.no_grad():\n",
    "    outputs = model(X)\n",
    "    predict = torch.argmax(outputs, 1)\n",
    "    accuracy = (predict == y).sum().item() / y.size(0)\n",
    "    print(f'Accuracy: {accuracy*100:.2f}%')"
   ]
  }
 ],
 "metadata": {
  "kernelspec": {
   "display_name": "Python 3",
   "language": "python",
   "name": "python3"
  },
  "language_info": {
   "codemirror_mode": {
    "name": "ipython",
    "version": 3
   },
   "file_extension": ".py",
   "mimetype": "text/x-python",
   "name": "python",
   "nbconvert_exporter": "python",
   "pygments_lexer": "ipython3",
   "version": "3.11.8"
  }
 },
 "nbformat": 4,
 "nbformat_minor": 5
}
